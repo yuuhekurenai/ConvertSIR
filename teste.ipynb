{
 "cells": [
  {
   "cell_type": "code",
   "execution_count": 3,
   "outputs": [
    {
     "data": {
      "text/plain": "     Dept Sta Arvl Sta    Dept Day Week-Day Pax-Subfleet Arvl-Hora  \\\n0      H5X411    5X411  01DEC29DEC  0004000       00076F   EZE0935   \n1      H5X411    5X411  05JAN23FEB  0004000       00076F   EZE0935   \n2      H5X411    5X411  02MAR09MAR  0004000       00076F   EZE0935   \n3      H5X411    5X411  16MAR23MAR  0004000       00076F   EZE0915   \n4      H5X412    5X412       03NOV        -       00076F   MIA1850   \n...       ...      ...         ...      ...          ...       ...   \n6803        H   WD9622       15DEC        -       000733         -   \n6804  HWD9622        -       30DEC        -       000733   SJK1425   \n6805  HWD9625        -       04NOV        -       000733   SJK1440   \n6806  HWD9625        -       16NOV        -       000733   SJK1745   \n6807        H   WD9625       15DEC        -       000734         -   \n\n       Dept-Hora Svc Type  FlightNumbeR  FlightNumberArvl  \\\n0        1310MIA       FF           NaN               NaN   \n1        1300MIA       FF           NaN               NaN   \n2        1255MIA       FF           NaN               NaN   \n3     1050BOGMIA       FF           NaN               NaN   \n4     2215SCLEZE       FF           NaN               NaN   \n...          ...      ...           ...               ...   \n6803     0650GIG        P           NaN               NaN   \n6804           -        P           NaN               NaN   \n6805           -        P           NaN               NaN   \n6806           -        P           NaN               NaN   \n6807     0700GIG        P           NaN               NaN   \n\n                                             Concatenar  Key  KeyX  Kdept  \\\n0     5X411H5X41101DEC29DEC000400000076F00076FEZE093...   56     2      7   \n1     5X411H5X41105JAN23FEB000400000076F00076FEZE093...   56     2      7   \n2     5X411H5X41102MAR09MAR000400000076F00076FEZE093...   56     2      7   \n3     5X411H5X41116MAR23MAR000400000076F00076FEZE091...   59     2     10   \n4      5X412H5X41203NOV-00076F00076FMIA18502215SCLEZEFF   48     2     10   \n...                                                 ...  ...   ...    ...   \n6803                 WD9622H15DEC-000733000733-0650GIGP   34     1      7   \n6804                -HWD962230DEC-000733000733SJK1425-P   35     1      1   \n6805                -HWD962504NOV-000733000733SJK1440-P   35     1      1   \n6806                -HWD962516NOV-000733000733SJK1745-P   35     1      1   \n6807                 WD9625H15DEC-000734000734-0700GIGP   34     1      7   \n\n      Karvl  \n0         7  \n1         7  \n2         7  \n3         7  \n4         7  \n...     ...  \n6803      1  \n6804      7  \n6805      7  \n6806      7  \n6807      1  \n\n[6808 rows x 15 columns]",
      "text/html": "<div>\n<style scoped>\n    .dataframe tbody tr th:only-of-type {\n        vertical-align: middle;\n    }\n\n    .dataframe tbody tr th {\n        vertical-align: top;\n    }\n\n    .dataframe thead th {\n        text-align: right;\n    }\n</style>\n<table border=\"1\" class=\"dataframe\">\n  <thead>\n    <tr style=\"text-align: right;\">\n      <th></th>\n      <th>Dept Sta</th>\n      <th>Arvl Sta</th>\n      <th>Dept Day</th>\n      <th>Week-Day</th>\n      <th>Pax-Subfleet</th>\n      <th>Arvl-Hora</th>\n      <th>Dept-Hora</th>\n      <th>Svc Type</th>\n      <th>FlightNumbeR</th>\n      <th>FlightNumberArvl</th>\n      <th>Concatenar</th>\n      <th>Key</th>\n      <th>KeyX</th>\n      <th>Kdept</th>\n      <th>Karvl</th>\n    </tr>\n  </thead>\n  <tbody>\n    <tr>\n      <th>0</th>\n      <td>H5X411</td>\n      <td>5X411</td>\n      <td>01DEC29DEC</td>\n      <td>0004000</td>\n      <td>00076F</td>\n      <td>EZE0935</td>\n      <td>1310MIA</td>\n      <td>FF</td>\n      <td>NaN</td>\n      <td>NaN</td>\n      <td>5X411H5X41101DEC29DEC000400000076F00076FEZE093...</td>\n      <td>56</td>\n      <td>2</td>\n      <td>7</td>\n      <td>7</td>\n    </tr>\n    <tr>\n      <th>1</th>\n      <td>H5X411</td>\n      <td>5X411</td>\n      <td>05JAN23FEB</td>\n      <td>0004000</td>\n      <td>00076F</td>\n      <td>EZE0935</td>\n      <td>1300MIA</td>\n      <td>FF</td>\n      <td>NaN</td>\n      <td>NaN</td>\n      <td>5X411H5X41105JAN23FEB000400000076F00076FEZE093...</td>\n      <td>56</td>\n      <td>2</td>\n      <td>7</td>\n      <td>7</td>\n    </tr>\n    <tr>\n      <th>2</th>\n      <td>H5X411</td>\n      <td>5X411</td>\n      <td>02MAR09MAR</td>\n      <td>0004000</td>\n      <td>00076F</td>\n      <td>EZE0935</td>\n      <td>1255MIA</td>\n      <td>FF</td>\n      <td>NaN</td>\n      <td>NaN</td>\n      <td>5X411H5X41102MAR09MAR000400000076F00076FEZE093...</td>\n      <td>56</td>\n      <td>2</td>\n      <td>7</td>\n      <td>7</td>\n    </tr>\n    <tr>\n      <th>3</th>\n      <td>H5X411</td>\n      <td>5X411</td>\n      <td>16MAR23MAR</td>\n      <td>0004000</td>\n      <td>00076F</td>\n      <td>EZE0915</td>\n      <td>1050BOGMIA</td>\n      <td>FF</td>\n      <td>NaN</td>\n      <td>NaN</td>\n      <td>5X411H5X41116MAR23MAR000400000076F00076FEZE091...</td>\n      <td>59</td>\n      <td>2</td>\n      <td>10</td>\n      <td>7</td>\n    </tr>\n    <tr>\n      <th>4</th>\n      <td>H5X412</td>\n      <td>5X412</td>\n      <td>03NOV</td>\n      <td>-</td>\n      <td>00076F</td>\n      <td>MIA1850</td>\n      <td>2215SCLEZE</td>\n      <td>FF</td>\n      <td>NaN</td>\n      <td>NaN</td>\n      <td>5X412H5X41203NOV-00076F00076FMIA18502215SCLEZEFF</td>\n      <td>48</td>\n      <td>2</td>\n      <td>10</td>\n      <td>7</td>\n    </tr>\n    <tr>\n      <th>...</th>\n      <td>...</td>\n      <td>...</td>\n      <td>...</td>\n      <td>...</td>\n      <td>...</td>\n      <td>...</td>\n      <td>...</td>\n      <td>...</td>\n      <td>...</td>\n      <td>...</td>\n      <td>...</td>\n      <td>...</td>\n      <td>...</td>\n      <td>...</td>\n      <td>...</td>\n    </tr>\n    <tr>\n      <th>6803</th>\n      <td>H</td>\n      <td>WD9622</td>\n      <td>15DEC</td>\n      <td>-</td>\n      <td>000733</td>\n      <td>-</td>\n      <td>0650GIG</td>\n      <td>P</td>\n      <td>NaN</td>\n      <td>NaN</td>\n      <td>WD9622H15DEC-000733000733-0650GIGP</td>\n      <td>34</td>\n      <td>1</td>\n      <td>7</td>\n      <td>1</td>\n    </tr>\n    <tr>\n      <th>6804</th>\n      <td>HWD9622</td>\n      <td>-</td>\n      <td>30DEC</td>\n      <td>-</td>\n      <td>000733</td>\n      <td>SJK1425</td>\n      <td>-</td>\n      <td>P</td>\n      <td>NaN</td>\n      <td>NaN</td>\n      <td>-HWD962230DEC-000733000733SJK1425-P</td>\n      <td>35</td>\n      <td>1</td>\n      <td>1</td>\n      <td>7</td>\n    </tr>\n    <tr>\n      <th>6805</th>\n      <td>HWD9625</td>\n      <td>-</td>\n      <td>04NOV</td>\n      <td>-</td>\n      <td>000733</td>\n      <td>SJK1440</td>\n      <td>-</td>\n      <td>P</td>\n      <td>NaN</td>\n      <td>NaN</td>\n      <td>-HWD962504NOV-000733000733SJK1440-P</td>\n      <td>35</td>\n      <td>1</td>\n      <td>1</td>\n      <td>7</td>\n    </tr>\n    <tr>\n      <th>6806</th>\n      <td>HWD9625</td>\n      <td>-</td>\n      <td>16NOV</td>\n      <td>-</td>\n      <td>000733</td>\n      <td>SJK1745</td>\n      <td>-</td>\n      <td>P</td>\n      <td>NaN</td>\n      <td>NaN</td>\n      <td>-HWD962516NOV-000733000733SJK1745-P</td>\n      <td>35</td>\n      <td>1</td>\n      <td>1</td>\n      <td>7</td>\n    </tr>\n    <tr>\n      <th>6807</th>\n      <td>H</td>\n      <td>WD9625</td>\n      <td>15DEC</td>\n      <td>-</td>\n      <td>000734</td>\n      <td>-</td>\n      <td>0700GIG</td>\n      <td>P</td>\n      <td>NaN</td>\n      <td>NaN</td>\n      <td>WD9625H15DEC-000734000734-0700GIGP</td>\n      <td>34</td>\n      <td>1</td>\n      <td>7</td>\n      <td>1</td>\n    </tr>\n  </tbody>\n</table>\n<p>6808 rows × 15 columns</p>\n</div>"
     },
     "execution_count": 3,
     "metadata": {},
     "output_type": "execute_result"
    }
   ],
   "source": [
    "# Importa o pandas\n",
    "from main import formata_txt\n",
    "import pandas as pd\n",
    "import datetime\n",
    "import openpyxl\n",
    "\n",
    "# Chama a função passando o nome do arquivo txt entre aspas, que será modificado\n",
    "\n",
    "formata_txt(\"teste.txt\")\n",
    "\n",
    "# Lê o arquivo já modificado\n",
    "\n",
    "df = pd.read_csv(\n",
    "\n",
    "    # Nome do arquivo\n",
    "\n",
    "    \"teste.txt\",\n",
    "\n",
    "    # Usa o espaço entre as palavras para separar por colunas\n",
    "\n",
    "    delim_whitespace=True,\n",
    "\n",
    "    # Usa estes nomes como nomes das colunas (alterar a vontade)\n",
    "\n",
    "    names=[\"Dept Sta\", \"Arvl Sta\", \"Dept Day\", \"Week-Day\", \"Pax-Subfleet\", \"Arvl-Hora\", \"Dept-Hora\", \"Svc Type\", \"FlightNumbeR\", \"FlightNumberArvl\"],\n",
    "\n",
    "    header=None,\n",
    "\n",
    ")\n",
    "\n",
    "# Imprime as linhas concactena e gera as duas Keys para filtro (Key e KeyX)\n",
    "df['Concatenar'] = df['Arvl Sta'] + df['Dept Sta'] + df['Dept Day'] + df['Week-Day'] + df['Pax-Subfleet'] + df['Pax-Subfleet'] + df['Arvl-Hora'] + df['Dept-Hora'] + df['Svc Type']\n",
    "\n",
    "df['Concatenar'] = df['Concatenar'].astype(str)\n",
    "df['Key'] = df['Concatenar'].str.len()\n",
    "df['KeyX'] = df['Svc Type'].astype(str)\n",
    "df['KeyX'] = df['KeyX'].str.len()\n",
    "df['Kdept'] = df['Dept-Hora'].astype(str)\n",
    "df['Kdept'] = df['Kdept'].str.len()\n",
    "df['Karvl'] = df['Arvl-Hora'].astype(str)\n",
    "df['Karvl'] = df['Karvl'].str.len()\n",
    "df_orig = df\n",
    "df_orig"
   ],
   "metadata": {
    "collapsed": false,
    "pycharm": {
     "name": "#%%\n"
    }
   }
  },
  {
   "cell_type": "markdown",
   "source": [],
   "metadata": {
    "collapsed": false,
    "pycharm": {
     "name": "#%% md\n"
    }
   }
  },
  {
   "cell_type": "code",
   "execution_count": 6,
   "outputs": [
    {
     "name": "stderr",
     "output_type": "stream",
     "text": [
      "C:\\Users\\gabri\\AppData\\Local\\Temp\\ipykernel_15376\\4049203866.py:2: SettingWithCopyWarning: \n",
      "A value is trying to be set on a copy of a slice from a DataFrame.\n",
      "Try using .loc[row_indexer,col_indexer] = value instead\n",
      "\n",
      "See the caveats in the documentation: https://pandas.pydata.org/pandas-docs/stable/user_guide/indexing.html#returning-a-view-versus-a-copy\n",
      "  df_frame45['FlightNumbeR'] = df_frame45['Arvl Sta']\n",
      "C:\\Users\\gabri\\AppData\\Local\\Temp\\ipykernel_15376\\4049203866.py:3: SettingWithCopyWarning: \n",
      "A value is trying to be set on a copy of a slice from a DataFrame.\n",
      "Try using .loc[row_indexer,col_indexer] = value instead\n",
      "\n",
      "See the caveats in the documentation: https://pandas.pydata.org/pandas-docs/stable/user_guide/indexing.html#returning-a-view-versus-a-copy\n",
      "  df_frame45['Dept Sta'] = 'VCP'\n",
      "C:\\Users\\gabri\\AppData\\Local\\Temp\\ipykernel_15376\\4049203866.py:4: SettingWithCopyWarning: \n",
      "A value is trying to be set on a copy of a slice from a DataFrame.\n",
      "Try using .loc[row_indexer,col_indexer] = value instead\n",
      "\n",
      "See the caveats in the documentation: https://pandas.pydata.org/pandas-docs/stable/user_guide/indexing.html#returning-a-view-versus-a-copy\n",
      "  df_frame45['Arvl Sta'] = df_frame45['Dept-Hora'].apply( lambda x: x[4:7])\n",
      "C:\\Users\\gabri\\AppData\\Local\\Temp\\ipykernel_15376\\4049203866.py:5: SettingWithCopyWarning: \n",
      "A value is trying to be set on a copy of a slice from a DataFrame.\n",
      "Try using .loc[row_indexer,col_indexer] = value instead\n",
      "\n",
      "See the caveats in the documentation: https://pandas.pydata.org/pandas-docs/stable/user_guide/indexing.html#returning-a-view-versus-a-copy\n",
      "  df_frame45['Arvl Day'] = df_frame45['Dept Day'].apply(lambda x: x[0:2] + '/' + x[2:5] + '/' + '2023' + ' á ' + x[5:7] + '/' + x[7:10] + '/' + '2023')\n",
      "C:\\Users\\gabri\\AppData\\Local\\Temp\\ipykernel_15376\\4049203866.py:6: SettingWithCopyWarning: \n",
      "A value is trying to be set on a copy of a slice from a DataFrame.\n",
      "Try using .loc[row_indexer,col_indexer] = value instead\n",
      "\n",
      "See the caveats in the documentation: https://pandas.pydata.org/pandas-docs/stable/user_guide/indexing.html#returning-a-view-versus-a-copy\n",
      "  df_frame45['Dept Day'] = df_frame45['Dept Day'].apply(lambda x: x[0:2] + '/' + x[2:5] + '/' + '2023' + ' á ' + x[5:7] + '/' + x[7:10] + '/' + '2023')\n",
      "C:\\Users\\gabri\\AppData\\Local\\Temp\\ipykernel_15376\\4049203866.py:7: SettingWithCopyWarning: \n",
      "A value is trying to be set on a copy of a slice from a DataFrame.\n",
      "Try using .loc[row_indexer,col_indexer] = value instead\n",
      "\n",
      "See the caveats in the documentation: https://pandas.pydata.org/pandas-docs/stable/user_guide/indexing.html#returning-a-view-versus-a-copy\n",
      "  df_frame45['Trilho'] = ''\n",
      "C:\\Users\\gabri\\AppData\\Local\\Temp\\ipykernel_15376\\4049203866.py:8: SettingWithCopyWarning: \n",
      "A value is trying to be set on a copy of a slice from a DataFrame.\n",
      "Try using .loc[row_indexer,col_indexer] = value instead\n",
      "\n",
      "See the caveats in the documentation: https://pandas.pydata.org/pandas-docs/stable/user_guide/indexing.html#returning-a-view-versus-a-copy\n",
      "  df_frame45['Pax'] = df_frame45['Pax-Subfleet'].apply( lambda x: x[0:3])\n",
      "C:\\Users\\gabri\\AppData\\Local\\Temp\\ipykernel_15376\\4049203866.py:9: SettingWithCopyWarning: \n",
      "A value is trying to be set on a copy of a slice from a DataFrame.\n",
      "Try using .loc[row_indexer,col_indexer] = value instead\n",
      "\n",
      "See the caveats in the documentation: https://pandas.pydata.org/pandas-docs/stable/user_guide/indexing.html#returning-a-view-versus-a-copy\n",
      "  df_frame45['Pax-Subfleet'] = df_frame45['Pax-Subfleet'].apply(lambda x: x[3:6])\n",
      "C:\\Users\\gabri\\AppData\\Local\\Temp\\ipykernel_15376\\4049203866.py:10: SettingWithCopyWarning: \n",
      "A value is trying to be set on a copy of a slice from a DataFrame.\n",
      "Try using .loc[row_indexer,col_indexer] = value instead\n",
      "\n",
      "See the caveats in the documentation: https://pandas.pydata.org/pandas-docs/stable/user_guide/indexing.html#returning-a-view-versus-a-copy\n",
      "  df_frame45['Arvl-Hora'] = '00:00'\n",
      "C:\\Users\\gabri\\AppData\\Local\\Temp\\ipykernel_15376\\4049203866.py:11: SettingWithCopyWarning: \n",
      "A value is trying to be set on a copy of a slice from a DataFrame.\n",
      "Try using .loc[row_indexer,col_indexer] = value instead\n",
      "\n",
      "See the caveats in the documentation: https://pandas.pydata.org/pandas-docs/stable/user_guide/indexing.html#returning-a-view-versus-a-copy\n",
      "  df_frame45['Dept-Hora'] = df_frame45['Dept-Hora'].apply(lambda x: x[0:2] + ':' + x[2:4])\n"
     ]
    },
    {
     "data": {
      "text/plain": "     Dept Sta Arvl Sta                   Dept Day                   Arvl Day  \\\n72        VCP      MAO  30/OCT/2023 á 01/NOV/2023  30/OCT/2023 á 01/NOV/2023   \n75        VCP      MAO  03/NOV/2023 á 04/NOV/2023  03/NOV/2023 á 04/NOV/2023   \n76        VCP      MAO  05/NOV/2023 á 22/NOV/2023  05/NOV/2023 á 22/NOV/2023   \n77        VCP      MAO  07/NOV/2023 á 21/NOV/2023  07/NOV/2023 á 21/NOV/2023   \n80        VCP      MAO  17/NOV/2023 á 23/NOV/2023  17/NOV/2023 á 23/NOV/2023   \n...       ...      ...                        ...                        ...   \n6746      VCP      MAO  11/MAR/2023 á 25/MAR/2023  11/MAR/2023 á 25/MAR/2023   \n6753      VCP      REC  03/NOV/2023 á 08/NOV/2023  03/NOV/2023 á 08/NOV/2023   \n6761      VCP      REC  19/JAN/2023 á 02/MAR/2023  19/JAN/2023 á 02/MAR/2023   \n6762      VCP      REC  07/MAR/2023 á 25/MAR/2023  07/MAR/2023 á 25/MAR/2023   \n6781      VCP      GIG  09/NOV/2023 á 15/NOV/2023  09/NOV/2023 á 15/NOV/2023   \n\n     Dept-Hora Arvl-Hora Pax-Subfleet FlightNumbeR  FlightNumberArvl Trilho  \\\n72       06:45     00:00          73P       AD2002               NaN          \n75       05:20     00:00          73P       AD2002               NaN          \n76       07:00     00:00          73P       AD2002               NaN          \n77       08:00     00:00          73P       AD2002               NaN          \n80       07:00     00:00          73P       AD2002               NaN          \n...        ...       ...          ...          ...               ...    ...   \n6746     11:55     00:00          734       WD5802               NaN          \n6753     13:50     00:00          734       WD5806               NaN          \n6761     13:50     00:00          734       WD5806               NaN          \n6762     12:25     00:00          734       WD5806               NaN          \n6781     17:00     00:00          734       WD9620               NaN          \n\n     Svc Type  Pax Week-Day  \n72          F  000  0200007  \n75          F  000  0004500  \n76          F  000  0200067  \n77          F  000  1030000  \n80          F  000  0034000  \n...       ...  ...      ...  \n6746        F  000  0000060  \n6753        F  000  0204000  \n6761        F  000  0204000  \n6762        F  000  0204060  \n6781        P  000  0230000  \n\n[2152 rows x 13 columns]",
      "text/html": "<div>\n<style scoped>\n    .dataframe tbody tr th:only-of-type {\n        vertical-align: middle;\n    }\n\n    .dataframe tbody tr th {\n        vertical-align: top;\n    }\n\n    .dataframe thead th {\n        text-align: right;\n    }\n</style>\n<table border=\"1\" class=\"dataframe\">\n  <thead>\n    <tr style=\"text-align: right;\">\n      <th></th>\n      <th>Dept Sta</th>\n      <th>Arvl Sta</th>\n      <th>Dept Day</th>\n      <th>Arvl Day</th>\n      <th>Dept-Hora</th>\n      <th>Arvl-Hora</th>\n      <th>Pax-Subfleet</th>\n      <th>FlightNumbeR</th>\n      <th>FlightNumberArvl</th>\n      <th>Trilho</th>\n      <th>Svc Type</th>\n      <th>Pax</th>\n      <th>Week-Day</th>\n    </tr>\n  </thead>\n  <tbody>\n    <tr>\n      <th>72</th>\n      <td>VCP</td>\n      <td>MAO</td>\n      <td>30/OCT/2023 á 01/NOV/2023</td>\n      <td>30/OCT/2023 á 01/NOV/2023</td>\n      <td>06:45</td>\n      <td>00:00</td>\n      <td>73P</td>\n      <td>AD2002</td>\n      <td>NaN</td>\n      <td></td>\n      <td>F</td>\n      <td>000</td>\n      <td>0200007</td>\n    </tr>\n    <tr>\n      <th>75</th>\n      <td>VCP</td>\n      <td>MAO</td>\n      <td>03/NOV/2023 á 04/NOV/2023</td>\n      <td>03/NOV/2023 á 04/NOV/2023</td>\n      <td>05:20</td>\n      <td>00:00</td>\n      <td>73P</td>\n      <td>AD2002</td>\n      <td>NaN</td>\n      <td></td>\n      <td>F</td>\n      <td>000</td>\n      <td>0004500</td>\n    </tr>\n    <tr>\n      <th>76</th>\n      <td>VCP</td>\n      <td>MAO</td>\n      <td>05/NOV/2023 á 22/NOV/2023</td>\n      <td>05/NOV/2023 á 22/NOV/2023</td>\n      <td>07:00</td>\n      <td>00:00</td>\n      <td>73P</td>\n      <td>AD2002</td>\n      <td>NaN</td>\n      <td></td>\n      <td>F</td>\n      <td>000</td>\n      <td>0200067</td>\n    </tr>\n    <tr>\n      <th>77</th>\n      <td>VCP</td>\n      <td>MAO</td>\n      <td>07/NOV/2023 á 21/NOV/2023</td>\n      <td>07/NOV/2023 á 21/NOV/2023</td>\n      <td>08:00</td>\n      <td>00:00</td>\n      <td>73P</td>\n      <td>AD2002</td>\n      <td>NaN</td>\n      <td></td>\n      <td>F</td>\n      <td>000</td>\n      <td>1030000</td>\n    </tr>\n    <tr>\n      <th>80</th>\n      <td>VCP</td>\n      <td>MAO</td>\n      <td>17/NOV/2023 á 23/NOV/2023</td>\n      <td>17/NOV/2023 á 23/NOV/2023</td>\n      <td>07:00</td>\n      <td>00:00</td>\n      <td>73P</td>\n      <td>AD2002</td>\n      <td>NaN</td>\n      <td></td>\n      <td>F</td>\n      <td>000</td>\n      <td>0034000</td>\n    </tr>\n    <tr>\n      <th>...</th>\n      <td>...</td>\n      <td>...</td>\n      <td>...</td>\n      <td>...</td>\n      <td>...</td>\n      <td>...</td>\n      <td>...</td>\n      <td>...</td>\n      <td>...</td>\n      <td>...</td>\n      <td>...</td>\n      <td>...</td>\n      <td>...</td>\n    </tr>\n    <tr>\n      <th>6746</th>\n      <td>VCP</td>\n      <td>MAO</td>\n      <td>11/MAR/2023 á 25/MAR/2023</td>\n      <td>11/MAR/2023 á 25/MAR/2023</td>\n      <td>11:55</td>\n      <td>00:00</td>\n      <td>734</td>\n      <td>WD5802</td>\n      <td>NaN</td>\n      <td></td>\n      <td>F</td>\n      <td>000</td>\n      <td>0000060</td>\n    </tr>\n    <tr>\n      <th>6753</th>\n      <td>VCP</td>\n      <td>REC</td>\n      <td>03/NOV/2023 á 08/NOV/2023</td>\n      <td>03/NOV/2023 á 08/NOV/2023</td>\n      <td>13:50</td>\n      <td>00:00</td>\n      <td>734</td>\n      <td>WD5806</td>\n      <td>NaN</td>\n      <td></td>\n      <td>F</td>\n      <td>000</td>\n      <td>0204000</td>\n    </tr>\n    <tr>\n      <th>6761</th>\n      <td>VCP</td>\n      <td>REC</td>\n      <td>19/JAN/2023 á 02/MAR/2023</td>\n      <td>19/JAN/2023 á 02/MAR/2023</td>\n      <td>13:50</td>\n      <td>00:00</td>\n      <td>734</td>\n      <td>WD5806</td>\n      <td>NaN</td>\n      <td></td>\n      <td>F</td>\n      <td>000</td>\n      <td>0204000</td>\n    </tr>\n    <tr>\n      <th>6762</th>\n      <td>VCP</td>\n      <td>REC</td>\n      <td>07/MAR/2023 á 25/MAR/2023</td>\n      <td>07/MAR/2023 á 25/MAR/2023</td>\n      <td>12:25</td>\n      <td>00:00</td>\n      <td>734</td>\n      <td>WD5806</td>\n      <td>NaN</td>\n      <td></td>\n      <td>F</td>\n      <td>000</td>\n      <td>0204060</td>\n    </tr>\n    <tr>\n      <th>6781</th>\n      <td>VCP</td>\n      <td>GIG</td>\n      <td>09/NOV/2023 á 15/NOV/2023</td>\n      <td>09/NOV/2023 á 15/NOV/2023</td>\n      <td>17:00</td>\n      <td>00:00</td>\n      <td>734</td>\n      <td>WD9620</td>\n      <td>NaN</td>\n      <td></td>\n      <td>P</td>\n      <td>000</td>\n      <td>0230000</td>\n    </tr>\n  </tbody>\n</table>\n<p>2152 rows × 13 columns</p>\n</div>"
     },
     "execution_count": 6,
     "metadata": {},
     "output_type": "execute_result"
    }
   ],
   "source": [
    "df_frame45 = df_orig.query('KeyX == 1  & Key == 45 & Kdept == 7')\n",
    "df_frame45['FlightNumbeR'] = df_frame45['Arvl Sta']\n",
    "df_frame45['Dept Sta'] = 'VCP'\n",
    "df_frame45['Arvl Sta'] = df_frame45['Dept-Hora'].apply( lambda x: x[4:7])\n",
    "df_frame45['Arvl Day'] = df_frame45['Dept Day'].apply(lambda x: x[0:2] + '/' + x[2:5] + '/' + '2023' + ' á ' + x[5:7] + '/' + x[7:10] + '/' + '2023')\n",
    "df_frame45['Dept Day'] = df_frame45['Dept Day'].apply(lambda x: x[0:2] + '/' + x[2:5] + '/' + '2023' + ' á ' + x[5:7] + '/' + x[7:10] + '/' + '2023')\n",
    "df_frame45['Trilho'] = ''\n",
    "df_frame45['Pax'] = df_frame45['Pax-Subfleet'].apply( lambda x: x[0:3])\n",
    "df_frame45['Pax-Subfleet'] = df_frame45['Pax-Subfleet'].apply(lambda x: x[3:6])\n",
    "df_frame45['Arvl-Hora'] = '00:00'\n",
    "df_frame45['Dept-Hora'] = df_frame45['Dept-Hora'].apply(lambda x: x[0:2] + ':' + x[2:4])\n",
    "df_frame45 = df_frame45[['Dept Sta', 'Arvl Sta', 'Dept Day', 'Arvl Day', 'Dept-Hora', 'Arvl-Hora','Pax-Subfleet','FlightNumbeR','FlightNumberArvl', 'Trilho','Svc Type', 'Pax', 'Week-Day']]\n",
    "    df_frame45\n"
   ],
   "metadata": {
    "collapsed": false,
    "pycharm": {
     "name": "#%%\n"
    }
   }
  },
  {
   "cell_type": "code",
   "execution_count": 7,
   "outputs": [
    {
     "name": "stderr",
     "output_type": "stream",
     "text": [
      "C:\\Users\\gabri\\AppData\\Local\\Temp\\ipykernel_15376\\935544994.py:2: SettingWithCopyWarning: \n",
      "A value is trying to be set on a copy of a slice from a DataFrame.\n",
      "Try using .loc[row_indexer,col_indexer] = value instead\n",
      "\n",
      "See the caveats in the documentation: https://pandas.pydata.org/pandas-docs/stable/user_guide/indexing.html#returning-a-view-versus-a-copy\n",
      "  df_frame34['FlightNumbeR'] = df_frame34['Arvl Sta']\n",
      "C:\\Users\\gabri\\AppData\\Local\\Temp\\ipykernel_15376\\935544994.py:3: SettingWithCopyWarning: \n",
      "A value is trying to be set on a copy of a slice from a DataFrame.\n",
      "Try using .loc[row_indexer,col_indexer] = value instead\n",
      "\n",
      "See the caveats in the documentation: https://pandas.pydata.org/pandas-docs/stable/user_guide/indexing.html#returning-a-view-versus-a-copy\n",
      "  df_frame34['Dept Sta'] = 'VCP'\n",
      "C:\\Users\\gabri\\AppData\\Local\\Temp\\ipykernel_15376\\935544994.py:4: SettingWithCopyWarning: \n",
      "A value is trying to be set on a copy of a slice from a DataFrame.\n",
      "Try using .loc[row_indexer,col_indexer] = value instead\n",
      "\n",
      "See the caveats in the documentation: https://pandas.pydata.org/pandas-docs/stable/user_guide/indexing.html#returning-a-view-versus-a-copy\n",
      "  df_frame34['Arvl Sta'] = df_frame34['Dept-Hora'].apply( lambda x: x[4:7])\n",
      "C:\\Users\\gabri\\AppData\\Local\\Temp\\ipykernel_15376\\935544994.py:5: SettingWithCopyWarning: \n",
      "A value is trying to be set on a copy of a slice from a DataFrame.\n",
      "Try using .loc[row_indexer,col_indexer] = value instead\n",
      "\n",
      "See the caveats in the documentation: https://pandas.pydata.org/pandas-docs/stable/user_guide/indexing.html#returning-a-view-versus-a-copy\n",
      "  df_frame34['Arvl Day'] = df_frame34['Dept Day'].apply(lambda x: x[0:2] + '/' + x[2:5] + '/' + '2023')\n",
      "C:\\Users\\gabri\\AppData\\Local\\Temp\\ipykernel_15376\\935544994.py:6: SettingWithCopyWarning: \n",
      "A value is trying to be set on a copy of a slice from a DataFrame.\n",
      "Try using .loc[row_indexer,col_indexer] = value instead\n",
      "\n",
      "See the caveats in the documentation: https://pandas.pydata.org/pandas-docs/stable/user_guide/indexing.html#returning-a-view-versus-a-copy\n",
      "  df_frame34['Dept Day'] = df_frame34['Dept Day'].apply(lambda x: x[0:2] + '/' + x[2:5] + '/' + '2023')\n",
      "C:\\Users\\gabri\\AppData\\Local\\Temp\\ipykernel_15376\\935544994.py:7: SettingWithCopyWarning: \n",
      "A value is trying to be set on a copy of a slice from a DataFrame.\n",
      "Try using .loc[row_indexer,col_indexer] = value instead\n",
      "\n",
      "See the caveats in the documentation: https://pandas.pydata.org/pandas-docs/stable/user_guide/indexing.html#returning-a-view-versus-a-copy\n",
      "  df_frame34['Trilho'] = ''\n",
      "C:\\Users\\gabri\\AppData\\Local\\Temp\\ipykernel_15376\\935544994.py:8: SettingWithCopyWarning: \n",
      "A value is trying to be set on a copy of a slice from a DataFrame.\n",
      "Try using .loc[row_indexer,col_indexer] = value instead\n",
      "\n",
      "See the caveats in the documentation: https://pandas.pydata.org/pandas-docs/stable/user_guide/indexing.html#returning-a-view-versus-a-copy\n",
      "  df_frame34['Pax'] = df_frame34['Pax-Subfleet'].apply( lambda x: x[0:3])\n",
      "C:\\Users\\gabri\\AppData\\Local\\Temp\\ipykernel_15376\\935544994.py:9: SettingWithCopyWarning: \n",
      "A value is trying to be set on a copy of a slice from a DataFrame.\n",
      "Try using .loc[row_indexer,col_indexer] = value instead\n",
      "\n",
      "See the caveats in the documentation: https://pandas.pydata.org/pandas-docs/stable/user_guide/indexing.html#returning-a-view-versus-a-copy\n",
      "  df_frame34['Pax-Subfleet'] = df_frame34['Pax-Subfleet'].apply(lambda x: x[3:6])\n",
      "C:\\Users\\gabri\\AppData\\Local\\Temp\\ipykernel_15376\\935544994.py:10: SettingWithCopyWarning: \n",
      "A value is trying to be set on a copy of a slice from a DataFrame.\n",
      "Try using .loc[row_indexer,col_indexer] = value instead\n",
      "\n",
      "See the caveats in the documentation: https://pandas.pydata.org/pandas-docs/stable/user_guide/indexing.html#returning-a-view-versus-a-copy\n",
      "  df_frame34['Arvl-Hora'] = '00:00'\n",
      "C:\\Users\\gabri\\AppData\\Local\\Temp\\ipykernel_15376\\935544994.py:11: SettingWithCopyWarning: \n",
      "A value is trying to be set on a copy of a slice from a DataFrame.\n",
      "Try using .loc[row_indexer,col_indexer] = value instead\n",
      "\n",
      "See the caveats in the documentation: https://pandas.pydata.org/pandas-docs/stable/user_guide/indexing.html#returning-a-view-versus-a-copy\n",
      "  df_frame34['Dept-Hora'] = df_frame34['Dept-Hora'].apply(lambda x: x[0:2] + ':' + x[2:4])\n"
     ]
    },
    {
     "data": {
      "text/plain": "     Dept Sta Arvl Sta     Dept Day     Arvl Day Dept-Hora Arvl-Hora  \\\n73        VCP      MAO  31/OCT/2023  31/OCT/2023     08:30     00:00   \n74        VCP      MAO  02/NOV/2023  02/NOV/2023     07:20     00:00   \n78        VCP      MAO  10/NOV/2023  10/NOV/2023     07:30     00:00   \n79        VCP      MAO  11/NOV/2023  11/NOV/2023     07:55     00:00   \n84        VCP      MAO  30/NOV/2023  30/NOV/2023     07:55     00:00   \n...       ...      ...          ...          ...       ...       ...   \n6794      VCP      GIG  08/DEC/2023  08/DEC/2023     07:40     00:00   \n6800      VCP      GIG  22/NOV/2023  22/NOV/2023     07:05     00:00   \n6801      VCP      SJK  05/DEC/2023  05/DEC/2023     13:30     00:00   \n6803      VCP      GIG  15/DEC/2023  15/DEC/2023     06:50     00:00   \n6807      VCP      GIG  15/DEC/2023  15/DEC/2023     07:00     00:00   \n\n     Pax-Subfleet FlightNumbeR  FlightNumberArvl Trilho Svc Type  Pax Week-Day  \n73            73P       AD2002               NaN               F  000        -  \n74            73P       AD2002               NaN               F  000        -  \n78            73P       AD2002               NaN               F  000        -  \n79            73P       AD2002               NaN               F  000        -  \n84            73P       AD2002               NaN               F  000        -  \n...           ...          ...               ...    ...      ...  ...      ...  \n6794          733       WD9621               NaN               P  000        -  \n6800          734       WD9622               NaN               P  000        -  \n6801          734       WD9622               NaN               P  000        -  \n6803          733       WD9622               NaN               P  000        -  \n6807          734       WD9625               NaN               P  000        -  \n\n[831 rows x 13 columns]",
      "text/html": "<div>\n<style scoped>\n    .dataframe tbody tr th:only-of-type {\n        vertical-align: middle;\n    }\n\n    .dataframe tbody tr th {\n        vertical-align: top;\n    }\n\n    .dataframe thead th {\n        text-align: right;\n    }\n</style>\n<table border=\"1\" class=\"dataframe\">\n  <thead>\n    <tr style=\"text-align: right;\">\n      <th></th>\n      <th>Dept Sta</th>\n      <th>Arvl Sta</th>\n      <th>Dept Day</th>\n      <th>Arvl Day</th>\n      <th>Dept-Hora</th>\n      <th>Arvl-Hora</th>\n      <th>Pax-Subfleet</th>\n      <th>FlightNumbeR</th>\n      <th>FlightNumberArvl</th>\n      <th>Trilho</th>\n      <th>Svc Type</th>\n      <th>Pax</th>\n      <th>Week-Day</th>\n    </tr>\n  </thead>\n  <tbody>\n    <tr>\n      <th>73</th>\n      <td>VCP</td>\n      <td>MAO</td>\n      <td>31/OCT/2023</td>\n      <td>31/OCT/2023</td>\n      <td>08:30</td>\n      <td>00:00</td>\n      <td>73P</td>\n      <td>AD2002</td>\n      <td>NaN</td>\n      <td></td>\n      <td>F</td>\n      <td>000</td>\n      <td>-</td>\n    </tr>\n    <tr>\n      <th>74</th>\n      <td>VCP</td>\n      <td>MAO</td>\n      <td>02/NOV/2023</td>\n      <td>02/NOV/2023</td>\n      <td>07:20</td>\n      <td>00:00</td>\n      <td>73P</td>\n      <td>AD2002</td>\n      <td>NaN</td>\n      <td></td>\n      <td>F</td>\n      <td>000</td>\n      <td>-</td>\n    </tr>\n    <tr>\n      <th>78</th>\n      <td>VCP</td>\n      <td>MAO</td>\n      <td>10/NOV/2023</td>\n      <td>10/NOV/2023</td>\n      <td>07:30</td>\n      <td>00:00</td>\n      <td>73P</td>\n      <td>AD2002</td>\n      <td>NaN</td>\n      <td></td>\n      <td>F</td>\n      <td>000</td>\n      <td>-</td>\n    </tr>\n    <tr>\n      <th>79</th>\n      <td>VCP</td>\n      <td>MAO</td>\n      <td>11/NOV/2023</td>\n      <td>11/NOV/2023</td>\n      <td>07:55</td>\n      <td>00:00</td>\n      <td>73P</td>\n      <td>AD2002</td>\n      <td>NaN</td>\n      <td></td>\n      <td>F</td>\n      <td>000</td>\n      <td>-</td>\n    </tr>\n    <tr>\n      <th>84</th>\n      <td>VCP</td>\n      <td>MAO</td>\n      <td>30/NOV/2023</td>\n      <td>30/NOV/2023</td>\n      <td>07:55</td>\n      <td>00:00</td>\n      <td>73P</td>\n      <td>AD2002</td>\n      <td>NaN</td>\n      <td></td>\n      <td>F</td>\n      <td>000</td>\n      <td>-</td>\n    </tr>\n    <tr>\n      <th>...</th>\n      <td>...</td>\n      <td>...</td>\n      <td>...</td>\n      <td>...</td>\n      <td>...</td>\n      <td>...</td>\n      <td>...</td>\n      <td>...</td>\n      <td>...</td>\n      <td>...</td>\n      <td>...</td>\n      <td>...</td>\n      <td>...</td>\n    </tr>\n    <tr>\n      <th>6794</th>\n      <td>VCP</td>\n      <td>GIG</td>\n      <td>08/DEC/2023</td>\n      <td>08/DEC/2023</td>\n      <td>07:40</td>\n      <td>00:00</td>\n      <td>733</td>\n      <td>WD9621</td>\n      <td>NaN</td>\n      <td></td>\n      <td>P</td>\n      <td>000</td>\n      <td>-</td>\n    </tr>\n    <tr>\n      <th>6800</th>\n      <td>VCP</td>\n      <td>GIG</td>\n      <td>22/NOV/2023</td>\n      <td>22/NOV/2023</td>\n      <td>07:05</td>\n      <td>00:00</td>\n      <td>734</td>\n      <td>WD9622</td>\n      <td>NaN</td>\n      <td></td>\n      <td>P</td>\n      <td>000</td>\n      <td>-</td>\n    </tr>\n    <tr>\n      <th>6801</th>\n      <td>VCP</td>\n      <td>SJK</td>\n      <td>05/DEC/2023</td>\n      <td>05/DEC/2023</td>\n      <td>13:30</td>\n      <td>00:00</td>\n      <td>734</td>\n      <td>WD9622</td>\n      <td>NaN</td>\n      <td></td>\n      <td>P</td>\n      <td>000</td>\n      <td>-</td>\n    </tr>\n    <tr>\n      <th>6803</th>\n      <td>VCP</td>\n      <td>GIG</td>\n      <td>15/DEC/2023</td>\n      <td>15/DEC/2023</td>\n      <td>06:50</td>\n      <td>00:00</td>\n      <td>733</td>\n      <td>WD9622</td>\n      <td>NaN</td>\n      <td></td>\n      <td>P</td>\n      <td>000</td>\n      <td>-</td>\n    </tr>\n    <tr>\n      <th>6807</th>\n      <td>VCP</td>\n      <td>GIG</td>\n      <td>15/DEC/2023</td>\n      <td>15/DEC/2023</td>\n      <td>07:00</td>\n      <td>00:00</td>\n      <td>734</td>\n      <td>WD9625</td>\n      <td>NaN</td>\n      <td></td>\n      <td>P</td>\n      <td>000</td>\n      <td>-</td>\n    </tr>\n  </tbody>\n</table>\n<p>831 rows × 13 columns</p>\n</div>"
     },
     "execution_count": 7,
     "metadata": {},
     "output_type": "execute_result"
    }
   ],
   "source": [
    "df_frame34 = df_orig.query('KeyX == 1  & Key == 34 & Kdept == 7')\n",
    "df_frame34['FlightNumbeR'] = df_frame34['Arvl Sta']\n",
    "df_frame34['Dept Sta'] = 'VCP'\n",
    "df_frame34['Arvl Sta'] = df_frame34['Dept-Hora'].apply( lambda x: x[4:7])\n",
    "df_frame34['Arvl Day'] = df_frame34['Dept Day'].apply(lambda x: x[0:2] + '/' + x[2:5] + '/' + '2023')\n",
    "df_frame34['Dept Day'] = df_frame34['Dept Day'].apply(lambda x: x[0:2] + '/' + x[2:5] + '/' + '2023')\n",
    "df_frame34['Trilho'] = ''\n",
    "df_frame34['Pax'] = df_frame34['Pax-Subfleet'].apply( lambda x: x[0:3])\n",
    "df_frame34['Pax-Subfleet'] = df_frame34['Pax-Subfleet'].apply(lambda x: x[3:6])\n",
    "df_frame34['Arvl-Hora'] = '00:00'\n",
    "df_frame34['Dept-Hora'] = df_frame34['Dept-Hora'].apply(lambda x: x[0:2] + ':' + x[2:4])\n",
    "df_frame34 = df_frame34[['Dept Sta', 'Arvl Sta', 'Dept Day', 'Arvl Day', 'Dept-Hora', 'Arvl-Hora','Pax-Subfleet','FlightNumbeR','FlightNumberArvl', 'Trilho','Svc Type', 'Pax', 'Week-Day']]\n",
    "df_frame34"
   ],
   "metadata": {
    "collapsed": false,
    "pycharm": {
     "name": "#%%\n"
    }
   }
  },
  {
   "cell_type": "code",
   "execution_count": 9,
   "outputs": [
    {
     "ename": "NameError",
     "evalue": "name 'test1' is not defined",
     "output_type": "error",
     "traceback": [
      "\u001B[1;31m---------------------------------------------------------------------------\u001B[0m",
      "\u001B[1;31mNameError\u001B[0m                                 Traceback (most recent call last)",
      "Cell \u001B[1;32mIn[9], line 1\u001B[0m\n\u001B[1;32m----> 1\u001B[0m fusao \u001B[38;5;241m=\u001B[39m pd\u001B[38;5;241m.\u001B[39mconcat([\u001B[43mtest1\u001B[49m],[test2], ignore_index\u001B[38;5;241m=\u001B[39m\u001B[38;5;28;01mTrue\u001B[39;00m)\n",
      "\u001B[1;31mNameError\u001B[0m: name 'test1' is not defined"
     ]
    }
   ],
   "source": [
    "fusao = pd.concat([df_frame45],[df_frame34], ignore_index=True)"
   ],
   "metadata": {
    "collapsed": false,
    "pycharm": {
     "name": "#%%\n"
    }
   }
  },
  {
   "cell_type": "code",
   "execution_count": null,
   "outputs": [],
   "source": [],
   "metadata": {
    "collapsed": false,
    "pycharm": {
     "name": "#%%\n"
    }
   }
  }
 ],
 "metadata": {
  "kernelspec": {
   "display_name": "Python 3",
   "language": "python",
   "name": "python3"
  },
  "language_info": {
   "codemirror_mode": {
    "name": "ipython",
    "version": 2
   },
   "file_extension": ".py",
   "mimetype": "text/x-python",
   "name": "python",
   "nbconvert_exporter": "python",
   "pygments_lexer": "ipython2",
   "version": "2.7.6"
  }
 },
 "nbformat": 4,
 "nbformat_minor": 0
}